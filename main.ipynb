{
 "cells": [
  {
   "cell_type": "code",
   "execution_count": 23,
   "id": "7cec8563-4fd3-4770-a825-312a076647bc",
   "metadata": {},
   "outputs": [
    {
     "name": "stdout",
     "output_type": "stream",
     "text": [
      "[[31, -10], [7, -1], [22.0, -34.0], [-2.0000000000000036, -25.0]]\n"
     ]
    },
    {
     "data": {
      "image/svg+xml": [
       "<?xml version=\"1.0\" encoding=\"UTF-8\"?>\n",
       "<svg xmlns=\"http://www.w3.org/2000/svg\" xmlns:xlink=\"http://www.w3.org/1999/xlink\"\n",
       "     width=\"200\" height=\"200\" viewBox=\"-100 -100 200 200\">\n",
       "<defs>\n",
       "</defs>\n",
       "<path d=\"M35,-9 L45,27 L8.3966908689168,17.23478498627395\" />\n",
       "<path d=\"M31,-10 L7,-1 L-2.0000000000000036,-25.0 L22.0,-34.0\" />\n",
       "</svg>"
      ],
      "text/plain": [
       "<drawsvg.drawing.Drawing at 0x7ed7d69b1b50>"
      ]
     },
     "execution_count": 23,
     "metadata": {},
     "output_type": "execute_result"
    }
   ],
   "source": [
    "\"\"\"\n",
    "# Test shape creation\n",
    "\n",
    "\"\"\"\n",
    "import sys\n",
    "import drawsvg as dw\n",
    "\n",
    "sys.path.append('./packages')\n",
    "from synth.synthesise import gTri, gSquare\n",
    "\n",
    "d = dw.Drawing(width = 200, height = 200, origin = (-100,-100), id_prefix='d')\n",
    "\n",
    "tri = gTri()[\"p\"]\n",
    "p = dw.Path()\n",
    "p.M(*tri[0]).L(*tri[1]).L(*tri[2])\n",
    "d.append(p)\n",
    "\n",
    "sq = gSquare()[\"p\"]\n",
    "print(sq)\n",
    "p = dw.Path()\n",
    "p.M(*sq[0]).L(*sq[1]).L(*sq[3]).L(*sq[2])\n",
    "d.append(p)\n",
    "d"
   ]
  },
  {
   "cell_type": "code",
   "execution_count": 24,
   "id": "3ea0b352-acfe-44ff-8be6-2eb6c49a0c12",
   "metadata": {},
   "outputs": [
    {
     "name": "stdout",
     "output_type": "stream",
     "text": [
      "Tensors created\n"
     ]
    },
    {
     "data": {
      "text/plain": [
       "tensor([[0, 1, 2, 3],\n",
       "        [1, 2, 3, 0]])"
      ]
     },
     "execution_count": 24,
     "metadata": {},
     "output_type": "execute_result"
    }
   ],
   "source": [
    "\"\"\"\n",
    "# Generate Synthetic dataset.\n",
    "- 1 graph for each shape.\n",
    "\n",
    "\"\"\"\n",
    "import torch\n",
    "from torch_geometric.data import Data\n",
    "from random import choice\n",
    "from synth.synthesise import gTri, gSquare, gPoint, gLine\n",
    "\n",
    "g_funcs = [gLine, gTri, gSquare]\n",
    "nums = 50\n",
    "tensors = []\n",
    "for i in range(0, nums):\n",
    "    fx = choice(g_funcs)\n",
    "    d = fx()\n",
    "    edge_idx = torch.tensor(d[\"e\"], dtype = torch.long)\n",
    "    pos = torch.tensor(d[\"p\"], dtype = torch.float)\n",
    "    shape = torch.tensor(d[\"s\"], dtype = torch.int)\n",
    "    data = Data(edge_index = edge_idx.t().contiguous(), x=pos, pos = pos, shape = shape)\n",
    "    data.validate(raise_on_error = True)\n",
    "    tensors.append(data)\n",
    "    pass\n",
    "    \n",
    "print(\"Tensors created\")\n",
    "choice(tensors).is_undirected()\n",
    "tensors[0].num_node_features\n",
    "tensors[0].pos\n",
    "tensors[0].edge_index"
   ]
  },
  {
   "cell_type": "code",
   "execution_count": 26,
   "id": "d527a4b2-13be-44fc-8b23-237c03b45b15",
   "metadata": {},
   "outputs": [],
   "source": [
    "\"\"\"\n",
    "# Create Graph Neural Network (WIP)\n",
    "\n",
    "\"\"\"\n",
    "import torch.nn.functional as F\n",
    "from torch.nn import Linear, Parameter\n",
    "from torch_geometric.nn import MessagePassing\n",
    "from torch_geometric.utils import add_self_loops, degree\n",
    "from torch_geometric.nn.pool import global_mean_pool\n",
    "\n",
    "node_gmp = global_mean_pool(tensors[0].x, None)\n",
    "# TODO: Set up Message Passing to encode connectivity\n",
    "\n",
    "# Copied from https://pytorch-geometric.readthedocs.io/en/latest/tutorial/create_gnn.html\n",
    "# TODO: Modify to suit current GNN requirement.\n",
    "class GCNConv(MessagePassing):\n",
    "    def __init__(self, in_channels, out_channels):\n",
    "        super().__init__(aggr=\"add\")\n",
    "        self.lin = Linear(in_channels, out_channels, bias=False)\n",
    "        self.bias = Parameter(torch.empty(out_channels))\n",
    "        self.reset_parameters()\n",
    "\n",
    "    def reset_parameters(self):\n",
    "        self.lin.reset_parameters()\n",
    "        self.bias.data.zero_()\n",
    "        pass\n",
    "\n",
    "    def forward(self, x, edge_index):\n",
    "        # x [N, in_channels]; represents node feature matrix\n",
    "        # 1. Add self loops to adjacency matrix\n",
    "        edge_index, _ = add_self_loops(edge_index, num_nodes = x.size(0))\n",
    "        \n",
    "        # 2. Linearly transform node feature matrix\n",
    "        x = self.lin(x)\n",
    "\n",
    "        # 3. Compute normalisation of node features\n",
    "        row, col = edge_index\n",
    "        deg = degree(col, x.size(0), dtype=x.dtype)\n",
    "        deg_inv_sqrt = deg.pow(-0.5)\n",
    "        deg_inv_sqrt[deg_inv_sqrt == float('inf')] = 0\n",
    "        norm = deg_inv_sqrt[row] * deg_inv_sqrt[col]\n",
    "        \n",
    "        # Step 4-5: Start propagating messages.\n",
    "        out = self.propagate(edge_index, x=x, norm=norm)\n",
    "\n",
    "        # Step 6: Apply a final bias vector.\n",
    "        out = out + self.bias\n",
    "        pass\n",
    "\n",
    "    def message(self, x_j, norm):\n",
    "        return norm.view(-1, 1) * x_j\n",
    "\n",
    "    pass"
   ]
  }
 ],
 "metadata": {
  "kernelspec": {
   "display_name": "Python 3 (ipykernel)",
   "language": "python",
   "name": "python3"
  },
  "language_info": {
   "codemirror_mode": {
    "name": "ipython",
    "version": 3
   },
   "file_extension": ".py",
   "mimetype": "text/x-python",
   "name": "python",
   "nbconvert_exporter": "python",
   "pygments_lexer": "ipython3",
   "version": "3.11.7"
  }
 },
 "nbformat": 4,
 "nbformat_minor": 5
}
